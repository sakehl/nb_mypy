{
 "cells": [
  {
   "cell_type": "markdown",
   "metadata": {
    "slideshow": {
     "slide_type": "slide"
    }
   },
   "source": [
    "# Nb Mypy\n",
    "\n",
    "## Mypy Type Checking in Jupyter Notebooks\n",
    "\n",
    "&copy; 2021 - Lars van den Haak,  Tom Verhoeff (Eindhoven University of Technology)\n",
    "\n",
    "---\n",
    "\n",
    "_Nb Mypy_ is a facility to automatically run [`mypy`](http://mypy-lang.org/) on Jupyter notebook cells as they are executed, whilst retaining information about the execution history."
   ]
  },
  {
   "cell_type": "markdown",
   "metadata": {
    "slideshow": {
     "slide_type": "fragment"
    }
   },
   "source": [
    "## Table of Contents\n",
    "\n",
    "* Installation\n",
    "* Usage\n",
    "* Type Hint Checking Examples"
   ]
  },
  {
   "cell_type": "markdown",
   "metadata": {
    "slideshow": {
     "slide_type": "slide"
    }
   },
   "source": [
    "## Installation\n",
    "\n",
    "* _Nb Mypy_ relies on the packages mypy and astor, which you can install via `python3 -m pip install mypy astor`. \n",
    "* _Nb Mypy_ can be installed with `python3 -m pip install nb_mypy`. "
   ]
  },
  {
   "cell_type": "markdown",
   "metadata": {},
   "source": [
    "## Usage\n",
    "\n",
    "If you want to apply automatic type checking, you can load the extension as:"
   ]
  },
  {
   "cell_type": "code",
   "execution_count": 1,
   "metadata": {},
   "outputs": [
    {
     "name": "stderr",
     "output_type": "stream",
     "text": [
      "Version 1.0.3\n"
     ]
    }
   ],
   "source": [
    "%load_ext nb_mypy"
   ]
  },
  {
   "cell_type": "markdown",
   "metadata": {
    "slideshow": {
     "slide_type": "slide"
    }
   },
   "source": [
    "\n",
    "\n",
    "With the line magic `%nb_mypy` you can modify the behaviour of _Nb Mypy_\n",
    "* `%nb_mypy -v`: show version\n",
    "* `%nb_mypy`: show the current state\n",
    "* `%nb_mypy On`: enable automatic type checking\n",
    "* `%nb_mypy Off`: disable automatic type checking\n",
    "* `%nb_mypy DebugOn`: enable debug mode\n",
    "* `%nb_mypy DebugOff`: disable debug mode"
   ]
  },
  {
   "cell_type": "markdown",
   "metadata": {
    "slideshow": {
     "slide_type": "fragment"
    }
   },
   "source": [
    "An unknown argument will result in an error message and a list of known commands:"
   ]
  },
  {
   "cell_type": "code",
   "execution_count": 2,
   "metadata": {
    "slideshow": {
     "slide_type": "fragment"
    }
   },
   "outputs": [
    {
     "name": "stderr",
     "output_type": "stream",
     "text": [
      "Unknown argument\n",
      " Valid arguments: ['', '-v', 'On', 'Off', 'DebugOn', 'DebugOff']\n"
     ]
    }
   ],
   "source": [
    "%nb_mypy unknown"
   ]
  },
  {
   "cell_type": "markdown",
   "metadata": {
    "slideshow": {
     "slide_type": "slide"
    }
   },
   "source": [
    "## Type Hint Checking Examples\n",
    "\n",
    "Type hints were introduced in Python 3.5:\n",
    "\n",
    "* [Full specification (PEP 484)](https://www.python.org/dev/peps/pep-0484)\n",
    "* [Simplified introduction (PEP 483)](https://www.python.org/dev/peps/pep-0483)\n",
    "\n",
    "* [`typing` - Support for type hints](https://docs.python.org/3/library/typing.html)\n",
    "* [Type hints cheat sheet](https://mypy.readthedocs.io/en/stable/cheat_sheet_py3.html)"
   ]
  },
  {
   "cell_type": "markdown",
   "metadata": {
    "slideshow": {
     "slide_type": "fragment"
    }
   },
   "source": [
    "Type hints can be provided for\n",
    "* Variables, with or without assignment\n",
    "* Function parameters\n",
    "* Function return values\n",
    "\n",
    "The general syntax is `name: type`.\n",
    "\n",
    "Built-in types can be used:\n",
    "  - `str`, `int`, `float`, `bool`, `bytes`\n",
    "  - `tuple`, `list`, `dict`, `set` (but these are not recommended; see beloow)\n",
    "  \n",
    "Consider the following declarations,\n",
    "that are consistently typed."
   ]
  },
  {
   "cell_type": "code",
   "execution_count": 3,
   "metadata": {
    "slideshow": {
     "slide_type": "fragment"
    }
   },
   "outputs": [],
   "source": [
    "answer: int = 42\n",
    "name: str\n",
    "\n",
    "def replicate(s: str, f: float) -> str:\n",
    "    \"\"\"Return f copies of s.\n",
    "    \"\"\"\n",
    "    assert f >= 0, \"f must be >= 0\"\n",
    "    n = int(f)  # integer part of f\n",
    "    return n * s + s[:round((f - n) * len(s))]\n",
    "\n",
    "def print_plural(word: str, n: int) -> None:\n",
    "    \"\"\"Print pluralized word.\n",
    "    \"\"\"\n",
    "    print(f\"{word}{'' if n == 1 else 's'}\")"
   ]
  },
  {
   "cell_type": "markdown",
   "metadata": {
    "slideshow": {
     "slide_type": "fragment"
    }
   },
   "source": [
    "**Type hints** in Python:\n",
    "* Are *voluntary*, not mandatory\n",
    "* Are _not_ checked automatically by the Python interpreter\n",
    "* Serve as **documentation**\n",
    "* Can help **prevent mistakes**"
   ]
  },
  {
   "cell_type": "markdown",
   "metadata": {
    "slideshow": {
     "slide_type": "fragment"
    }
   },
   "source": [
    "The following usages execute without exceptions,\n",
    "but `mypy` type checking reveals mistakes."
   ]
  },
  {
   "cell_type": "code",
   "execution_count": 4,
   "metadata": {
    "slideshow": {
     "slide_type": "fragment"
    }
   },
   "outputs": [
    {
     "name": "stderr",
     "output_type": "stream",
     "text": [
      "<cell>1: error: Incompatible types in assignment (expression has type \"str\", variable has type \"int\")\n"
     ]
    },
    {
     "data": {
      "text/plain": [
       "'42'"
      ]
     },
     "execution_count": 4,
     "metadata": {},
     "output_type": "execute_result"
    }
   ],
   "source": [
    "answer = '42'\n",
    "answer"
   ]
  },
  {
   "cell_type": "code",
   "execution_count": 5,
   "metadata": {
    "slideshow": {
     "slide_type": "fragment"
    }
   },
   "outputs": [],
   "source": [
    "answer: str = '42'  # can give new type"
   ]
  },
  {
   "cell_type": "code",
   "execution_count": 6,
   "metadata": {
    "slideshow": {
     "slide_type": "fragment"
    }
   },
   "outputs": [
    {
     "name": "stderr",
     "output_type": "stream",
     "text": [
      "<cell>1: error: Argument 1 to \"replicate\" has incompatible type \"List[int]\"; expected \"str\"\n"
     ]
    },
    {
     "data": {
      "text/plain": [
       "[1, 2, 3, 1, 2, 3, 1, 2]"
      ]
     },
     "execution_count": 6,
     "metadata": {},
     "output_type": "execute_result"
    }
   ],
   "source": [
    "replicate([1, 2, 3], 2.5)"
   ]
  },
  {
   "cell_type": "code",
   "execution_count": 7,
   "metadata": {
    "slideshow": {
     "slide_type": "fragment"
    }
   },
   "outputs": [
    {
     "name": "stderr",
     "output_type": "stream",
     "text": [
      "<cell>1: error: Argument 2 to \"print_plural\" has incompatible type \"float\"; expected \"int\"\n"
     ]
    },
    {
     "name": "stdout",
     "output_type": "stream",
     "text": [
      "words\n"
     ]
    }
   ],
   "source": [
    "print_plural('word', 2.5)"
   ]
  },
  {
   "cell_type": "markdown",
   "metadata": {
    "slideshow": {
     "slide_type": "fragment"
    }
   },
   "source": [
    "Code need not run for type checking to be useful.\n",
    "The following mistake is caught even without calling the function."
   ]
  },
  {
   "cell_type": "code",
   "execution_count": 8,
   "metadata": {
    "slideshow": {
     "slide_type": "fragment"
    }
   },
   "outputs": [
    {
     "name": "stderr",
     "output_type": "stream",
     "text": [
      "<cell>4: error: Incompatible return value type (got \"int\", expected \"str\")\n"
     ]
    }
   ],
   "source": [
    "def f(n: int) -> str:\n",
    "    \"\"\"Convert number to string.\n",
    "    \"\"\"\n",
    "    return n"
   ]
  },
  {
   "cell_type": "markdown",
   "metadata": {
    "slideshow": {
     "slide_type": "subslide"
    }
   },
   "source": [
    "### Type hints for collections\n",
    "\n",
    "For collections, prefer capitalized type names,\n",
    "with arguments to specify the types of the items.\n",
    "\n",
    "These need to be imported from `typing`:"
   ]
  },
  {
   "cell_type": "code",
   "execution_count": 9,
   "metadata": {
    "slideshow": {
     "slide_type": "subslide"
    }
   },
   "outputs": [],
   "source": [
    "from typing import Any, Tuple, List, Dict, Set"
   ]
  },
  {
   "cell_type": "code",
   "execution_count": 10,
   "metadata": {
    "slideshow": {
     "slide_type": "fragment"
    }
   },
   "outputs": [],
   "source": [
    "t: Tuple[str, Any] = ('a', 1)\n",
    "c: Tuple[bool, ...] = ()\n",
    "names: List[str] = []\n",
    "d: Dict[str, float] = {}\n",
    "v: Set[int] = set()"
   ]
  },
  {
   "cell_type": "markdown",
   "metadata": {
    "slideshow": {
     "slide_type": "fragment"
    }
   },
   "source": [
    "In the assignments above,\n",
    "the type cannot be inferred from the right-hand expression.\n",
    "\n",
    "The following assignments execute without exception,\n",
    "but the types are not correct."
   ]
  },
  {
   "cell_type": "code",
   "execution_count": 11,
   "metadata": {
    "slideshow": {
     "slide_type": "fragment"
    }
   },
   "outputs": [
    {
     "name": "stderr",
     "output_type": "stream",
     "text": [
      "<cell>1: error: Incompatible types in assignment (expression has type \"Tuple[str, int, bool]\", variable has type \"Tuple[str, Any]\")\n",
      "<cell>2: error: Incompatible types in assignment (expression has type \"Tuple[bool, bool, int]\", variable has type \"Tuple[bool, ...]\")\n",
      "<cell>3: error: List item 1 has incompatible type \"int\"; expected \"str\"\n",
      "<cell>4: error: Dict entry 1 has incompatible type \"str\": \"str\"; expected \"str\": \"float\"\n",
      "<cell>5: error: Argument 1 to <set> has incompatible type \"str\"; expected \"int\"\n"
     ]
    }
   ],
   "source": [
    "t = ('b', 2, False)\n",
    "c = (False, True, 3)\n",
    "names = ['a', 1]\n",
    "d = {'a': 1, 'b': 'c'}\n",
    "v = {'a'}"
   ]
  },
  {
   "cell_type": "markdown",
   "metadata": {
    "slideshow": {
     "slide_type": "subslide"
    }
   },
   "source": [
    "Can also use more _generic_ types names\n",
    "* `Sequence`: generalizes `List` and `Tuple`\n",
    "* `Iterable`: anything usable in `for`-loop\n",
    "* `Mapping`, `MutableMapping`: generalizes `Dict`, `DefaultDict`\n",
    "* `Callable`: for anything that can be called\n",
    "* `Generator`: for generators"
   ]
  },
  {
   "cell_type": "code",
   "execution_count": 12,
   "metadata": {
    "slideshow": {
     "slide_type": "fragment"
    }
   },
   "outputs": [],
   "source": [
    "from typing import Sequence, Mapping, Iterable\n",
    "from typing import Callable, Generator"
   ]
  },
  {
   "cell_type": "markdown",
   "metadata": {
    "slideshow": {
     "slide_type": "subslide"
    }
   },
   "source": [
    "### Extra type hint features\n",
    "\n",
    "* **Type aliases**: different name for same type\n",
    "* `NewType`: treat existing type as different type\n",
    "* `TypeVar`: to express type constraints\n",
    "* `reveal_type`: to find out about inferred types"
   ]
  },
  {
   "cell_type": "code",
   "execution_count": 13,
   "metadata": {
    "slideshow": {
     "slide_type": "fragment"
    }
   },
   "outputs": [],
   "source": [
    "from typing import TypeVar, NewType"
   ]
  },
  {
   "cell_type": "code",
   "execution_count": 14,
   "metadata": {
    "slideshow": {
     "slide_type": "fragment"
    }
   },
   "outputs": [
    {
     "name": "stderr",
     "output_type": "stream",
     "text": [
      "<cell>15: error: Unsupported target for indexed assignment (\"Sequence[float]\")\n"
     ]
    },
    {
     "data": {
      "text/plain": [
       "[0.2, 0.8, 0.0]"
      ]
     },
     "execution_count": 14,
     "metadata": {},
     "output_type": "execute_result"
    }
   ],
   "source": [
    "# Type alias\n",
    "Distribution = Sequence[float]\n",
    "# Assumptions for distr: Distribution:\n",
    "# * all(0 <= p <= 1 for p in distr)\n",
    "# * sum(dist) == 1\n",
    "\n",
    "def condition(distr: Distribution, item: int) -> Distribution:\n",
    "    \"\"\"Return distribution under the condition that given item was not selected.\n",
    "    \n",
    "    Assumptions:\n",
    "    * item in range(len(distr))\n",
    "    * distr[item] < 1\n",
    "    \"\"\"\n",
    "    result = distr[:]\n",
    "    result[item] = 0\n",
    "    q = sum(result)  # probability that item not selected\n",
    "    return list(map(lambda x: x / q, result))\n",
    "\n",
    "condition([0.1, 0.4, 0.5], 2)"
   ]
  },
  {
   "cell_type": "code",
   "execution_count": 15,
   "metadata": {
    "slideshow": {
     "slide_type": "fragment"
    }
   },
   "outputs": [
    {
     "name": "stderr",
     "output_type": "stream",
     "text": [
      "<cell>6: error: Incompatible return value type (got \"float\", expected \"Distance\")\n"
     ]
    }
   ],
   "source": [
    "# New type name (not just an alias!)\n",
    "Distance = NewType('Distance', float)\n",
    "Area = NewType('Area', float)\n",
    "\n",
    "def scale(factor: float, dist: Distance) -> Distance:\n",
    "    return factor * dist"
   ]
  },
  {
   "cell_type": "code",
   "execution_count": 16,
   "metadata": {
    "slideshow": {
     "slide_type": "fragment"
    }
   },
   "outputs": [],
   "source": [
    "def scale(factor: float, dist: Distance) -> Distance:\n",
    "    return Distance(factor * dist)"
   ]
  },
  {
   "cell_type": "code",
   "execution_count": 17,
   "metadata": {},
   "outputs": [
    {
     "name": "stderr",
     "output_type": "stream",
     "text": [
      "<cell>3: error: Argument 2 to \"scale\" has incompatible type \"Area\"; expected \"Distance\"\n"
     ]
    },
    {
     "data": {
      "text/plain": [
       "1000"
      ]
     },
     "execution_count": 17,
     "metadata": {},
     "output_type": "execute_result"
    }
   ],
   "source": [
    "a = Area(100)\n",
    "\n",
    "scale(10, a)"
   ]
  },
  {
   "cell_type": "code",
   "execution_count": 18,
   "metadata": {
    "slideshow": {
     "slide_type": "fragment"
    }
   },
   "outputs": [],
   "source": [
    "# Type variable\n",
    "T = TypeVar('T')\n",
    "\n",
    "def mid(seq: Sequence[T]) -> T:\n",
    "    \"\"\"Return item from seq near the middle.\n",
    "    \n",
    "    Assumption: seq is not empty\n",
    "    \"\"\"\n",
    "    return seq[len(seq) // 2]"
   ]
  },
  {
   "cell_type": "markdown",
   "metadata": {
    "slideshow": {
     "slide_type": "fragment"
    }
   },
   "source": [
    "This is more informative than\n",
    "```python\n",
    "def mid(seq: Sequence[Any]) -> Any\n",
    "```"
   ]
  },
  {
   "cell_type": "code",
   "execution_count": 19,
   "metadata": {
    "slideshow": {
     "slide_type": "fragment"
    }
   },
   "outputs": [
    {
     "name": "stderr",
     "output_type": "stream",
     "text": [
      "<cell>3: note: Revealed type is 'builtins.int*'\n",
      "<cell>4: note: Revealed type is 'builtins.str*'\n"
     ]
    }
   ],
   "source": [
    "# reveal_type is not defined, but interpreted by mypy.\n",
    "# This extension also removes reveal_type calls, so we don't get errors.\n",
    "reveal_type(mid([1, 2]))\n",
    "reveal_type(mid(['a', 'b']))"
   ]
  },
  {
   "cell_type": "markdown",
   "metadata": {
    "slideshow": {
     "slide_type": "subslide"
    }
   },
   "source": [
    "### Advanced type hints\n",
    "\n",
    "* `Optional`: if value can also be `None`\n",
    "* `Union`: if value can have multiple types"
   ]
  },
  {
   "cell_type": "code",
   "execution_count": 20,
   "metadata": {
    "slideshow": {
     "slide_type": "fragment"
    }
   },
   "outputs": [],
   "source": [
    "from typing import Optional, Union"
   ]
  },
  {
   "cell_type": "code",
   "execution_count": 21,
   "metadata": {
    "slideshow": {
     "slide_type": "fragment"
    }
   },
   "outputs": [],
   "source": [
    "result: Optional[int] = None\n",
    "    \n",
    "answer: Union[str, int, float, bool] = \"Don't know yet\""
   ]
  },
  {
   "cell_type": "markdown",
   "metadata": {
    "slideshow": {
     "slide_type": "slide"
    }
   },
   "source": [
    "---\n",
    "\n",
    "## (End of Notebook)"
   ]
  }
 ],
 "metadata": {
  "kernelspec": {
   "display_name": "Python 3",
   "language": "python",
   "name": "python3"
  },
  "language_info": {
   "codemirror_mode": {
    "name": "ipython",
    "version": 3
   },
   "file_extension": ".py",
   "mimetype": "text/x-python",
   "name": "python",
   "nbconvert_exporter": "python",
   "pygments_lexer": "ipython3",
   "version": "3.8.10"
  }
 },
 "nbformat": 4,
 "nbformat_minor": 2
}
